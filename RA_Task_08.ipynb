{
 "cells": [
  {
   "attachments": {},
   "cell_type": "markdown",
   "id": "b753544e-01d1-4477-b689-9bf32ce9b3ee",
   "metadata": {},
   "source": [
    "# Prompt1&2\n",
    "# Which player underperformed the most this season and needs improvement?\n",
    "# Which player shows the most potential for growth next season?\n"
   ]
  },
  {
   "cell_type": "code",
   "execution_count": 11,
   "id": "d9c717fe-e3d4-41d3-b03e-0ce85cd61959",
   "metadata": {},
   "outputs": [
    {
     "name": "stdout",
     "output_type": "stream",
     "text": [
      "\n",
      "Player(s) who underperformed the most (min >= 180 mins):\n",
      "           player   min  g  a  total_contribution_per_90\n",
      "21     hut, tomas  1460  0  0                        0.0\n",
      "18  bell, dominic   479  0  0                        0.0\n",
      "17   bawa, ernest   466  0  0                        0.0\n",
      "\n",
      "Player(s) with most potential for growth (180–450 mins played):\n",
      "              player  min  g  a  total_contribution_per_90\n",
      "15  zambrano, carlos  424  1  0                   0.212264\n"
     ]
    }
   ],
   "source": [
    "import pandas as pd\n",
    "\n",
    "# Load and clean dataset\n",
    "df = pd.read_csv(\"su_mens_soccer_2024.csv\")\n",
    "df.columns = df.columns.str.strip()\n",
    "\n",
    "# Filter out players with less than 180 minutes (2 games) for meaningful analysis\n",
    "df_main = df[df[\"min\"] >= 180].copy()\n",
    "\n",
    "# Compute goals, assists, and total contribution per 90 minutes\n",
    "df_main[\"goals_per_90\"] = df_main[\"g\"] / (df_main[\"min\"] / 90)\n",
    "df_main[\"assists_per_90\"] = df_main[\"a\"] / (df_main[\"min\"] / 90)\n",
    "df_main[\"total_contribution_per_90\"] = df_main[\"goals_per_90\"] + df_main[\"assists_per_90\"]\n",
    "\n",
    "# Underperformer Analysis\n",
    "underperformers = df_main.sort_values(\"total_contribution_per_90\", ascending=True)\n",
    "\n",
    "print(\"\\nPlayer(s) who underperformed the most (min >= 180 mins):\")\n",
    "print(underperformers[[\"player\", \"min\", \"g\", \"a\", \"total_contribution_per_90\"]].head(3))\n",
    "\n",
    "# High Potential Analysis\n",
    "# Filter for mid-playtime players (180–450 minutes)\n",
    "df_potential = df[(df[\"min\"] >= 180) & (df[\"min\"] <= 450)].copy()\n",
    "\n",
    "df_potential[\"goals_per_90\"] = df_potential[\"g\"] / (df_potential[\"min\"] / 90)\n",
    "df_potential[\"assists_per_90\"] = df_potential[\"a\"] / (df_potential[\"min\"] / 90)\n",
    "df_potential[\"total_contribution_per_90\"] = df_potential[\"goals_per_90\"] + df_potential[\"assists_per_90\"]\n",
    "\n",
    "high_potential = df_potential.sort_values(\"total_contribution_per_90\", ascending=False)\n",
    "\n",
    "print(\"\\nPlayer(s) with most potential for growth (180–450 mins played):\")\n",
    "print(high_potential[[\"player\", \"min\", \"g\", \"a\", \"total_contribution_per_90\"]].head(3))"
   ]
  },
  {
   "attachments": {},
   "cell_type": "markdown",
   "id": "37ce7271-4c2e-4321-8309-e42cdb5a3c51",
   "metadata": {},
   "source": [
    "# Prompt 3 & 4\n",
    "# Which player was the most efficient in front of goal, and how might that impact next season’s tactics?\n",
    "# If you were to build next season’s attack around one underutilized player, who would it be and why?"
   ]
  },
  {
   "cell_type": "code",
   "execution_count": 12,
   "id": "907b9f11-270e-4a96-8fe6-04c904161f3b",
   "metadata": {},
   "outputs": [
    {
     "name": "stdout",
     "output_type": "stream",
     "text": [
      "Most Efficient Finishers (Top 5):\n",
      "           player  sh  g  sog  goal_conversion_rate  sog_percent  efficiency_score\n",
      "   gradus, michal   1  1    1              1.000000     1.000000          1.000000\n",
      "fortier, kristjan   6  2    4              0.333333     0.666667          0.500000\n",
      "    bell, dominic   1  0    1              0.000000     1.000000          0.500000\n",
      " threadgold, gabe  18  4   12              0.222222     0.666667          0.444444\n",
      "  rosenblatt, ben   6  1    4              0.166667     0.666667          0.416667\n"
     ]
    }
   ],
   "source": [
    "import pandas as pd\n",
    "\n",
    "df = pd.read_csv(\"su_mens_soccer_2024.csv\")\n",
    "df.columns = df.columns.str.lower().str.strip()\n",
    "\n",
    "# Filter only players with shots taken to avoid NaNs\n",
    "df = df[df[\"sh\"] > 0]\n",
    "\n",
    "# Calculate accuracy and conversion\n",
    "df[\"sog_percent\"] = df[\"sog\"] / df[\"sh\"]\n",
    "df[\"goal_conversion_rate\"] = df[\"g\"] / df[\"sh\"]\n",
    "\n",
    "# Combine metrics to get an overall efficiency score\n",
    "df[\"efficiency_score\"] = (df[\"sog_percent\"] + df[\"goal_conversion_rate\"]) / 2\n",
    "\n",
    "# Sort to find most efficient\n",
    "efficient_players = df.sort_values(by=\"efficiency_score\", ascending=False)[[\"player\", \"sh\", \"g\", \"sog\", \"goal_conversion_rate\", \"sog_percent\", \"efficiency_score\"]].head(5)\n",
    "\n",
    "print(\"Most Efficient Finishers (Top 5):\")\n",
    "print(efficient_players.to_string(index=False))"
   ]
  },
  {
   "cell_type": "code",
   "execution_count": 13,
   "id": "2266a0a1-2351-4d5a-bf25-453bca0bf1bd",
   "metadata": {},
   "outputs": [
    {
     "name": "stdout",
     "output_type": "stream",
     "text": [
      "Underutilized High-Impact Players:\n",
      "        player  min  g  a  contribution_per_90\n",
      "gradus, michal   19  1  0             4.736842\n",
      "leibold, giona  178  0  1             0.505618\n"
     ]
    }
   ],
   "source": [
    "# Recalculate contribution per 90\n",
    "df[\"contribution_per_90\"] = (df[\"g\"] + df[\"a\"]) / (df[\"min\"] / 90)\n",
    "\n",
    "# Median and thresholds\n",
    "median_min = df[\"min\"].median()\n",
    "low_minutes_threshold = 0.4 * median_min\n",
    "\n",
    "# Filter underutilized high-potential players\n",
    "underutilized = df[(df[\"min\"] < low_minutes_threshold) & (df[\"contribution_per_90\"] > df[\"contribution_per_90\"].quantile(0.75))]\n",
    "\n",
    "# Sort by impact per 90\n",
    "underutilized_sorted = underutilized.sort_values(by=\"contribution_per_90\", ascending=False)[[\"player\", \"min\", \"g\", \"a\", \"contribution_per_90\"]]\n",
    "\n",
    "print(\"Underutilized High-Impact Players:\")\n",
    "print(underutilized_sorted.to_string(index=False))"
   ]
  },
  {
   "cell_type": "code",
   "execution_count": null,
   "id": "1170df8c-b664-409b-ae5a-4d47b231c389",
   "metadata": {},
   "outputs": [],
   "source": []
  }
 ],
 "metadata": {
  "kernelspec": {
   "display_name": "Python 3 (ipykernel)",
   "language": "python",
   "name": "python3"
  },
  "language_info": {
   "codemirror_mode": {
    "name": "ipython",
    "version": 3
   },
   "file_extension": ".py",
   "mimetype": "text/x-python",
   "name": "python",
   "nbconvert_exporter": "python",
   "pygments_lexer": "ipython3",
   "version": "3.13.5"
  }
 },
 "nbformat": 4,
 "nbformat_minor": 5
}
